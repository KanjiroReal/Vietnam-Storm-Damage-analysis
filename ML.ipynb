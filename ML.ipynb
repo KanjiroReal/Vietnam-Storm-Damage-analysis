{
 "cells": [
  {
   "cell_type": "code",
   "execution_count": 36,
   "metadata": {},
   "outputs": [],
   "source": [
    "from joblib import dump, load\n",
    "\n",
    "import pandas as pd\n",
    "import matplotlib.pyplot as plt"
   ]
  },
  {
   "cell_type": "code",
   "execution_count": 37,
   "metadata": {},
   "outputs": [
    {
     "data": {
      "text/html": [
       "<div>\n",
       "<style scoped>\n",
       "    .dataframe tbody tr th:only-of-type {\n",
       "        vertical-align: middle;\n",
       "    }\n",
       "\n",
       "    .dataframe tbody tr th {\n",
       "        vertical-align: top;\n",
       "    }\n",
       "\n",
       "    .dataframe thead th {\n",
       "        text-align: right;\n",
       "    }\n",
       "</style>\n",
       "<table border=\"1\" class=\"dataframe\">\n",
       "  <thead>\n",
       "    <tr style=\"text-align: right;\">\n",
       "      <th></th>\n",
       "      <th>ID</th>\n",
       "      <th>EventName</th>\n",
       "      <th>Year</th>\n",
       "      <th>Month</th>\n",
       "      <th>DisasterType</th>\n",
       "      <th>DisasterSubtype</th>\n",
       "      <th>MainLandfallLocation</th>\n",
       "      <th>Flood</th>\n",
       "      <th>Slide</th>\n",
       "      <th>OFDAResponse</th>\n",
       "      <th>Appeal</th>\n",
       "      <th>Declaration</th>\n",
       "      <th>LandfallMagnitude(kph)</th>\n",
       "      <th>LandfallPressure(mb)</th>\n",
       "      <th>TotalDeaths</th>\n",
       "      <th>NoInjured</th>\n",
       "      <th>TotalDamage(000US$)</th>\n",
       "      <th>TotalDamageAdjusted(000US$)</th>\n",
       "      <th>CPI</th>\n",
       "    </tr>\n",
       "  </thead>\n",
       "  <tbody>\n",
       "    <tr>\n",
       "      <th>0</th>\n",
       "      <td>STORM_NAN_1953</td>\n",
       "      <td>NaN</td>\n",
       "      <td>1953</td>\n",
       "      <td>9</td>\n",
       "      <td>Storm</td>\n",
       "      <td>Tropical cyclone</td>\n",
       "      <td>8</td>\n",
       "      <td>0</td>\n",
       "      <td>0</td>\n",
       "      <td>0</td>\n",
       "      <td>0</td>\n",
       "      <td>0</td>\n",
       "      <td>92</td>\n",
       "      <td>989</td>\n",
       "      <td>1000</td>\n",
       "      <td>20</td>\n",
       "      <td>19400</td>\n",
       "      <td>211880</td>\n",
       "      <td>9.156133</td>\n",
       "    </tr>\n",
       "    <tr>\n",
       "      <th>1</th>\n",
       "      <td>STORM_VIOLET_1964</td>\n",
       "      <td>Violet</td>\n",
       "      <td>1964</td>\n",
       "      <td>9</td>\n",
       "      <td>Storm</td>\n",
       "      <td>Tropical cyclone</td>\n",
       "      <td>4</td>\n",
       "      <td>1</td>\n",
       "      <td>1</td>\n",
       "      <td>0</td>\n",
       "      <td>0</td>\n",
       "      <td>0</td>\n",
       "      <td>92</td>\n",
       "      <td>989</td>\n",
       "      <td>18</td>\n",
       "      <td>20</td>\n",
       "      <td>10000</td>\n",
       "      <td>94354</td>\n",
       "      <td>10.598376</td>\n",
       "    </tr>\n",
       "    <tr>\n",
       "      <th>2</th>\n",
       "      <td>STORM_IRIS_1964</td>\n",
       "      <td>Iris</td>\n",
       "      <td>1964</td>\n",
       "      <td>11</td>\n",
       "      <td>Storm</td>\n",
       "      <td>Tropical cyclone</td>\n",
       "      <td>5</td>\n",
       "      <td>1</td>\n",
       "      <td>0</td>\n",
       "      <td>0</td>\n",
       "      <td>0</td>\n",
       "      <td>0</td>\n",
       "      <td>150</td>\n",
       "      <td>960</td>\n",
       "      <td>5100</td>\n",
       "      <td>20</td>\n",
       "      <td>70000</td>\n",
       "      <td>660479</td>\n",
       "      <td>10.598376</td>\n",
       "    </tr>\n",
       "    <tr>\n",
       "      <th>3</th>\n",
       "      <td>STORM_JOAN_1964</td>\n",
       "      <td>Joan</td>\n",
       "      <td>1964</td>\n",
       "      <td>11</td>\n",
       "      <td>Storm</td>\n",
       "      <td>Tropical cyclone</td>\n",
       "      <td>5</td>\n",
       "      <td>1</td>\n",
       "      <td>0</td>\n",
       "      <td>0</td>\n",
       "      <td>0</td>\n",
       "      <td>0</td>\n",
       "      <td>130</td>\n",
       "      <td>980</td>\n",
       "      <td>2500</td>\n",
       "      <td>20</td>\n",
       "      <td>15000</td>\n",
       "      <td>141531</td>\n",
       "      <td>10.598376</td>\n",
       "    </tr>\n",
       "    <tr>\n",
       "      <th>4</th>\n",
       "      <td>STORM_KATE_1964</td>\n",
       "      <td>Kate</td>\n",
       "      <td>1964</td>\n",
       "      <td>11</td>\n",
       "      <td>Storm</td>\n",
       "      <td>Tropical cyclone</td>\n",
       "      <td>6</td>\n",
       "      <td>1</td>\n",
       "      <td>0</td>\n",
       "      <td>0</td>\n",
       "      <td>0</td>\n",
       "      <td>0</td>\n",
       "      <td>130</td>\n",
       "      <td>970</td>\n",
       "      <td>0</td>\n",
       "      <td>20</td>\n",
       "      <td>3000</td>\n",
       "      <td>28306</td>\n",
       "      <td>10.598376</td>\n",
       "    </tr>\n",
       "  </tbody>\n",
       "</table>\n",
       "</div>"
      ],
      "text/plain": [
       "                  ID EventName  Year  Month DisasterType   DisasterSubtype  \\\n",
       "0     STORM_NAN_1953       NaN  1953      9        Storm  Tropical cyclone   \n",
       "1  STORM_VIOLET_1964   Violet   1964      9        Storm  Tropical cyclone   \n",
       "2    STORM_IRIS_1964      Iris  1964     11        Storm  Tropical cyclone   \n",
       "3    STORM_JOAN_1964      Joan  1964     11        Storm  Tropical cyclone   \n",
       "4    STORM_KATE_1964      Kate  1964     11        Storm  Tropical cyclone   \n",
       "\n",
       "   MainLandfallLocation  Flood  Slide  OFDAResponse  Appeal  Declaration  \\\n",
       "0                     8      0      0             0       0            0   \n",
       "1                     4      1      1             0       0            0   \n",
       "2                     5      1      0             0       0            0   \n",
       "3                     5      1      0             0       0            0   \n",
       "4                     6      1      0             0       0            0   \n",
       "\n",
       "   LandfallMagnitude(kph)  LandfallPressure(mb)  TotalDeaths  NoInjured  \\\n",
       "0                      92                   989         1000         20   \n",
       "1                      92                   989           18         20   \n",
       "2                     150                   960         5100         20   \n",
       "3                     130                   980         2500         20   \n",
       "4                     130                   970            0         20   \n",
       "\n",
       "   TotalDamage(000US$)  TotalDamageAdjusted(000US$)        CPI  \n",
       "0                19400                       211880   9.156133  \n",
       "1                10000                        94354  10.598376  \n",
       "2                70000                       660479  10.598376  \n",
       "3                15000                       141531  10.598376  \n",
       "4                 3000                        28306  10.598376  "
      ]
     },
     "execution_count": 37,
     "metadata": {},
     "output_type": "execute_result"
    }
   ],
   "source": [
    "from src.const import DATA_HEAD, WEIGHTS_HEAD\n",
    "ML_dir = WEIGHTS_HEAD / \"ML\"\n",
    "\n",
    "data_filename = DATA_HEAD / \"STORM_preprocessed_medianfill_1.csv\"\n",
    "base_df = pd.read_csv(str(data_filename), index_col=0)\n",
    "base_df.head()"
   ]
  },
  {
   "cell_type": "markdown",
   "metadata": {},
   "source": [
    "\n",
    "# I. Plan\n",
    "\n",
    "1. **Featue importance**\n",
    "2. **Categorical classification**\n",
    "3. **damage prediction**"
   ]
  },
  {
   "cell_type": "markdown",
   "metadata": {},
   "source": [
    "# 1. Feature importance"
   ]
  },
  {
   "cell_type": "code",
   "execution_count": null,
   "metadata": {},
   "outputs": [],
   "source": []
  },
  {
   "cell_type": "markdown",
   "metadata": {},
   "source": [
    "# 2. Categorical classification"
   ]
  },
  {
   "cell_type": "markdown",
   "metadata": {},
   "source": [
    "\n",
    "| **Mô hình**               | **Ưu điểm**                            | **Nhược điểm**                          | **Khi nào dùng?**                       |\n",
    "|---------------------------|----------------------------------------|----------------------------------------|----------------------------------------|\n",
    "| Logistic Regression       | Đơn giản, dễ hiểu                      | Chỉ hiệu quả với dữ liệu tuyến tính    | Dữ liệu tuyến tính                     |\n",
    "| KNN                       | Dễ triển khai                          | Dự đoán chậm với dữ liệu lớn           | Dữ liệu nhỏ, không tuyến tính          |\n",
    "| Decision Tree             | Dễ trực quan hóa                       | Dễ bị overfitting                      | Phân loại nhanh                        |\n",
    "| Random Forest             | Giảm overfitting                       | Tốn tài nguyên hơn Decision Tree       | Dữ liệu phức tạp                       |\n",
    "| SVM                       | Hiệu quả với không gian chiều cao      | Khó mở rộng cho dữ liệu lớn            | Dữ liệu chiều cao                      |\n",
    "| Naive Bayes               | Nhanh, hiệu quả                        | Giả định độc lập không luôn đúng       | Phân loại văn bản                      |\n",
    "| Gradient Boosting         | Kết quả tốt                            | Tốn tài nguyên                         | Dữ liệu phức tạp, cần hiệu quả cao     |\n",
    "| Neural Network (MLP)      | Học được mẫu phức tạp                  | Cần nhiều tài nguyên                   | Khi có nhiều dữ liệu                   |\n",
    "\n",
    "**Model selection**\n",
    "1. `Logistic Regression`\n",
    "2. `KNN`\n",
    "3. `Random Forest`\n",
    "   - Random Forest works well with data that has both linear and non-linear features. \n",
    "   - It does not require normalization or transformation of the data (i.e., the data does not need to follow the same distribution). \n",
    "   - The model minimizes overfitting by aggregating from multiple decision trees.\n",
    "4. `SVM with rbf or Polynomial kernel`\n",
    "   - SVM with RBF or Polynomial kernel can turn non-linear data into linear in higher space. \n",
    "   - Suitable if data is moderate in size (SVM does not scale well for large data). "
   ]
  },
  {
   "cell_type": "markdown",
   "metadata": {},
   "source": [
    "## 2.1 SLIDE"
   ]
  },
  {
   "cell_type": "code",
   "execution_count": 38,
   "metadata": {},
   "outputs": [
    {
     "name": "stdout",
     "output_type": "stream",
     "text": [
      "CATEGORICAL_TARGETS :['Flood', 'Slide']\n",
      "ATTRIBUTES :['Year', 'Month', 'MainLandfallLocation', 'OFDAResponse', 'Appeal', 'Declaration', 'LandfallMagnitude(kph)', 'LandfallPressure(mb)']\n",
      "Train size 165\n",
      " Flood\n",
      "1    139\n",
      "0     26\n",
      "Name: count, dtype: int64\n",
      "Test size: 19\n",
      " Flood\n",
      "1    14\n",
      "0     5\n",
      "Name: count, dtype: int64\n"
     ]
    }
   ],
   "source": [
    "from sklearn.model_selection import train_test_split\n",
    "from sklearn.preprocessing import StandardScaler\n",
    "\n",
    "from src.const import CATEGORICAL_TARGETS, ATTRIBUTES\n",
    "\n",
    "evaluate_dict = dict()\n",
    "\n",
    "print(f\"CATEGORICAL_TARGETS :{CATEGORICAL_TARGETS}\")\n",
    "print(f\"ATTRIBUTES :{ATTRIBUTES}\")\n",
    "\n",
    "slide_df = base_df.copy()\n",
    "X = slide_df[ATTRIBUTES]\n",
    "y = slide_df[CATEGORICAL_TARGETS[0]]\n",
    "\n",
    "X_train, X_test, y_train, y_test = train_test_split(X, y, test_size=0.1, random_state=1)\n",
    "\n",
    "# standardize\n",
    "scaler = StandardScaler()\n",
    "X_train_scaled = scaler.fit_transform(X_train)\n",
    "X_test_scaled = scaler.transform(X_test)\n",
    "\n",
    "\n",
    "print(f\"Train size {len(X_train)}\\n\",y_train.value_counts())\n",
    "print(f\"Test size: {len(X_test)}\\n\",y_test.value_counts())"
   ]
  },
  {
   "cell_type": "code",
   "execution_count": 39,
   "metadata": {},
   "outputs": [],
   "source": [
    "epochs = 1000\n",
    "thresh = 0.8"
   ]
  },
  {
   "cell_type": "markdown",
   "metadata": {},
   "source": [
    "### 2.1.1 Logistic regression"
   ]
  },
  {
   "cell_type": "code",
   "execution_count": 40,
   "metadata": {},
   "outputs": [
    {
     "data": {
      "image/png": "[encoded data removed]",
      "text/plain": [
       "<Figure size 600x400 with 1 Axes>"
      ]
     },
     "metadata": {},
     "output_type": "display_data"
    },
    {
     "name": "stdout",
     "output_type": "stream",
     "text": [
      "accuracy: 0.68\n",
      "precision: 0.79\n",
      "recall: 0.79\n"
     ]
    }
   ],
   "source": [
    "from sklearn.linear_model import LogisticRegression\n",
    "\n",
    "from src.utils import evaluate, plot_confusion_matrix\n",
    "\n",
    "\n",
    "slide_lr = LogisticRegression(max_iter=epochs)\n",
    "slide_lr.fit(X_train, y_train)\n",
    "\n",
    "eval_values = evaluate(slide_lr, X_test, y_test, threshold=thresh)\n",
    "evaluate_dict[slide_lr.__class__.__name__] = eval_values\n",
    "\n",
    "plot_confusion_matrix(eval_values['confusion_matrix'])\n",
    "print(f\"accuracy: {eval_values['accuracy']}\")\n",
    "print(f\"precision: {eval_values['precision']}\")\n",
    "print(f\"recall: {eval_values['recall']}\")"
   ]
  },
  {
   "cell_type": "markdown",
   "metadata": {},
   "source": [
    "### 2.1.2 KNN"
   ]
  },
  {
   "cell_type": "code",
   "execution_count": 41,
   "metadata": {},
   "outputs": [
    {
     "data": {
      "image/png": "[encoded data removed]",
      "text/plain": [
       "<Figure size 600x400 with 1 Axes>"
      ]
     },
     "metadata": {},
     "output_type": "display_data"
    },
    {
     "name": "stdout",
     "output_type": "stream",
     "text": [
      "accuracy: 0.84\n",
      "precision: 1.0\n",
      "recall: 0.79\n"
     ]
    }
   ],
   "source": [
    "from sklearn.neighbors import KNeighborsClassifier\n",
    "\n",
    "slide_knn = KNeighborsClassifier(n_neighbors=2)\n",
    "slide_knn.fit(X_train, y_train)\n",
    "\n",
    "eval_values = evaluate(slide_knn, X_test, y_test, threshold=thresh)\n",
    "evaluate_dict[slide_knn.__class__.__name__] = eval_values\n",
    "\n",
    "plot_confusion_matrix(eval_values['confusion_matrix'])\n",
    "print(f\"accuracy: {eval_values['accuracy']}\")\n",
    "print(f\"precision: {eval_values['precision']}\")\n",
    "print(f\"recall: {eval_values['recall']}\")"
   ]
  },
  {
   "cell_type": "markdown",
   "metadata": {},
   "source": [
    "### 2.1.3 Random Forest"
   ]
  },
  {
   "cell_type": "code",
   "execution_count": 42,
   "metadata": {},
   "outputs": [
    {
     "data": {
      "image/png": "[encoded data removed]",
      "text/plain": [
       "<Figure size 600x400 with 1 Axes>"
      ]
     },
     "metadata": {},
     "output_type": "display_data"
    },
    {
     "name": "stdout",
     "output_type": "stream",
     "text": [
      "accuracy: 0.84\n",
      "precision: 0.92\n",
      "recall: 0.86\n"
     ]
    }
   ],
   "source": [
    "from sklearn.ensemble import RandomForestClassifier\n",
    "\n",
    "slide_rf = RandomForestClassifier(n_estimators=epochs)\n",
    "slide_rf.fit(X_train, y_train)\n",
    "\n",
    "eval_values = evaluate(slide_rf, X_test, y_test, threshold=thresh)\n",
    "evaluate_dict[slide_rf.__class__.__name__] = eval_values\n",
    "\n",
    "plot_confusion_matrix(eval_values['confusion_matrix'])\n",
    "print(f\"accuracy: {eval_values['accuracy']}\")\n",
    "print(f\"precision: {eval_values['precision']}\")\n",
    "print(f\"recall: {eval_values['recall']}\")"
   ]
  },
  {
   "cell_type": "markdown",
   "metadata": {},
   "source": [
    "### 2.1.4 SVM with `rbf kernel`"
   ]
  },
  {
   "cell_type": "code",
   "execution_count": 43,
   "metadata": {},
   "outputs": [
    {
     "data": {
      "image/png": "[encoded data removed]",
      "text/plain": [
       "<Figure size 600x400 with 1 Axes>"
      ]
     },
     "metadata": {},
     "output_type": "display_data"
    },
    {
     "name": "stdout",
     "output_type": "stream",
     "text": [
      "accuracy: 0.74\n",
      "precision: 0.74\n",
      "recall: 1.0\n"
     ]
    }
   ],
   "source": [
    "from sklearn.svm import SVC\n",
    "\n",
    "slide_svm = SVC(kernel='rbf', random_state=42, probability=True, max_iter=epochs)\n",
    "slide_svm.fit(X_train, y_train)\n",
    "\n",
    "eval_values = evaluate(slide_svm, X_test, y_test, threshold=thresh)\n",
    "evaluate_dict[slide_svm.__class__.__name__] = eval_values\n",
    "\n",
    "plot_confusion_matrix(eval_values['confusion_matrix'])\n",
    "print(f\"accuracy: {eval_values['accuracy']}\")\n",
    "print(f\"precision: {eval_values['precision']}\")\n",
    "print(f\"recall: {eval_values['recall']}\")"
   ]
  },
  {
   "cell_type": "code",
   "execution_count": 44,
   "metadata": {},
   "outputs": [
    {
     "data": {
      "text/html": [
       "<style type=\"text/css\">\n",
       "#T_793f9_row1_col2, #T_793f9_row1_col3, #T_793f9_row3_col4 {\n",
       "  color: red;\n",
       "}\n",
       "#T_793f9_row2_col0, #T_793f9_row2_col1, #T_793f9_row2_col3, #T_793f9_row2_col4 {\n",
       "  background-color: green;\n",
       "}\n",
       "#T_793f9_row2_col2 {\n",
       "  color: red;\n",
       "  background-color: green;\n",
       "}\n",
       "</style>\n",
       "<table id=\"T_793f9\">\n",
       "  <thead>\n",
       "    <tr>\n",
       "      <th class=\"blank level0\" >&nbsp;</th>\n",
       "      <th id=\"T_793f9_level0_col0\" class=\"col_heading level0 col0\" >Method</th>\n",
       "      <th id=\"T_793f9_level0_col1\" class=\"col_heading level0 col1\" >confusion_matrix</th>\n",
       "      <th id=\"T_793f9_level0_col2\" class=\"col_heading level0 col2\" >accuracy</th>\n",
       "      <th id=\"T_793f9_level0_col3\" class=\"col_heading level0 col3\" >precision</th>\n",
       "      <th id=\"T_793f9_level0_col4\" class=\"col_heading level0 col4\" >recall</th>\n",
       "    </tr>\n",
       "  </thead>\n",
       "  <tbody>\n",
       "    <tr>\n",
       "      <th id=\"T_793f9_level0_row0\" class=\"row_heading level0 row0\" >0</th>\n",
       "      <td id=\"T_793f9_row0_col0\" class=\"data row0 col0\" >LogisticRegression</td>\n",
       "      <td id=\"T_793f9_row0_col1\" class=\"data row0 col1\" >[[ 2  3]\n",
       " [ 3 11]]</td>\n",
       "      <td id=\"T_793f9_row0_col2\" class=\"data row0 col2\" >0.68</td>\n",
       "      <td id=\"T_793f9_row0_col3\" class=\"data row0 col3\" >0.79</td>\n",
       "      <td id=\"T_793f9_row0_col4\" class=\"data row0 col4\" >0.79</td>\n",
       "    </tr>\n",
       "    <tr>\n",
       "      <th id=\"T_793f9_level0_row1\" class=\"row_heading level0 row1\" >1</th>\n",
       "      <td id=\"T_793f9_row1_col0\" class=\"data row1 col0\" >KNeighborsClassifier</td>\n",
       "      <td id=\"T_793f9_row1_col1\" class=\"data row1 col1\" >[[ 5  0]\n",
       " [ 3 11]]</td>\n",
       "      <td id=\"T_793f9_row1_col2\" class=\"data row1 col2\" >0.84</td>\n",
       "      <td id=\"T_793f9_row1_col3\" class=\"data row1 col3\" >1.00</td>\n",
       "      <td id=\"T_793f9_row1_col4\" class=\"data row1 col4\" >0.79</td>\n",
       "    </tr>\n",
       "    <tr>\n",
       "      <th id=\"T_793f9_level0_row2\" class=\"row_heading level0 row2\" >2</th>\n",
       "      <td id=\"T_793f9_row2_col0\" class=\"data row2 col0\" >RandomForestClassifier</td>\n",
       "      <td id=\"T_793f9_row2_col1\" class=\"data row2 col1\" >[[ 4  1]\n",
       " [ 2 12]]</td>\n",
       "      <td id=\"T_793f9_row2_col2\" class=\"data row2 col2\" >0.84</td>\n",
       "      <td id=\"T_793f9_row2_col3\" class=\"data row2 col3\" >0.92</td>\n",
       "      <td id=\"T_793f9_row2_col4\" class=\"data row2 col4\" >0.86</td>\n",
       "    </tr>\n",
       "    <tr>\n",
       "      <th id=\"T_793f9_level0_row3\" class=\"row_heading level0 row3\" >3</th>\n",
       "      <td id=\"T_793f9_row3_col0\" class=\"data row3 col0\" >SVC</td>\n",
       "      <td id=\"T_793f9_row3_col1\" class=\"data row3 col1\" >[[ 0  5]\n",
       " [ 0 14]]</td>\n",
       "      <td id=\"T_793f9_row3_col2\" class=\"data row3 col2\" >0.74</td>\n",
       "      <td id=\"T_793f9_row3_col3\" class=\"data row3 col3\" >0.74</td>\n",
       "      <td id=\"T_793f9_row3_col4\" class=\"data row3 col4\" >1.00</td>\n",
       "    </tr>\n",
       "  </tbody>\n",
       "</table>\n"
      ],
      "text/plain": [
       "<pandas.io.formats.style.Styler at 0x23cffe3c670>"
      ]
     },
     "execution_count": 44,
     "metadata": {},
     "output_type": "execute_result"
    }
   ],
   "source": [
    "# compare metrics value\n",
    "def highlight_max(s):\n",
    "    is_max = s == s.max()\n",
    "    return ['color: red' if v else '' for v in is_max]\n",
    "\n",
    "def highlight_row(row, selected_method):\n",
    "    return ['background-color: green' if row['Method'] == selected_method else '' \n",
    "            for _ in row]\n",
    "\n",
    "selected_method = slide_rf.__class__.__name__\n",
    "eval_value_df = pd.DataFrame(evaluate_dict).T.reset_index().rename(columns={\"index\":\"Method\"})\n",
    "\n",
    "eval_value_df = (\n",
    "    eval_value_df.style\n",
    "    .apply(highlight_max, subset=[\"accuracy\", \"precision\", \"recall\"])\n",
    "    .apply(lambda row: highlight_row(row, selected_method), axis=1 )\n",
    "    .format(precision=2)\n",
    ")\n",
    "\n",
    "eval_value_df"
   ]
  },
  {
   "cell_type": "markdown",
   "metadata": {},
   "source": [
    "`Random Forest` archieve the best score in both precision `(0.92)`, recall `(0.86)` and accuracy `(0.84)` with same `1000 epoch` and `0.8 threshold for precision` because of <u>imbalance data</u>"
   ]
  },
  {
   "cell_type": "code",
   "execution_count": 45,
   "metadata": {},
   "outputs": [
    {
     "data": {
      "text/plain": [
       "['weights\\\\ML\\\\slide_predictor_random_forest.joblib']"
      ]
     },
     "execution_count": 45,
     "metadata": {},
     "output_type": "execute_result"
    }
   ],
   "source": [
    "# dump(slide_rf, ML_dir / 'slide_predictor_random_forest.joblib')"
   ]
  },
  {
   "cell_type": "markdown",
   "metadata": {},
   "source": [
    "## 2.2 FLOOD"
   ]
  },
  {
   "cell_type": "code",
   "execution_count": 46,
   "metadata": {},
   "outputs": [
    {
     "name": "stdout",
     "output_type": "stream",
     "text": [
      "Train size 165\n",
      " Slide\n",
      "0    108\n",
      "1     57\n",
      "Name: count, dtype: int64\n",
      "Test size: 19\n",
      " Slide\n",
      "0    11\n",
      "1     8\n",
      "Name: count, dtype: int64\n"
     ]
    }
   ],
   "source": [
    "# prepare\n",
    "\n",
    "flood_df = base_df.copy()\n",
    "X = flood_df[ATTRIBUTES]\n",
    "y = flood_df[CATEGORICAL_TARGETS[1]]\n",
    "\n",
    "X_train, X_test, y_train, y_test = train_test_split(X, y, test_size=0.1, random_state=2)\n",
    "\n",
    "# standardize\n",
    "scaler = StandardScaler()\n",
    "X_train_scaled = scaler.fit_transform(X_train)\n",
    "X_test_scaled = scaler.transform(X_test)\n",
    "\n",
    "print(f\"Train size {len(X_train)}\\n\",y_train.value_counts())\n",
    "print(f\"Test size: {len(X_test)}\\n\",y_test.value_counts())"
   ]
  },
  {
   "cell_type": "code",
   "execution_count": 47,
   "metadata": {},
   "outputs": [
    {
     "data": {
      "image/png": "[encoded data removed]",
      "text/plain": [
       "<Figure size 600x400 with 1 Axes>"
      ]
     },
     "metadata": {},
     "output_type": "display_data"
    },
    {
     "name": "stdout",
     "output_type": "stream",
     "text": [
      "accuracy: 0.68\n",
      "precision: 0.58\n",
      "recall: 0.88\n"
     ]
    }
   ],
   "source": [
    "from sklearn.ensemble import RandomForestClassifier\n",
    "\n",
    "flood_rf = RandomForestClassifier(n_estimators=epochs)\n",
    "flood_rf.fit(X_train, y_train)\n",
    "\n",
    "eval_values = evaluate(flood_rf, X_test, y_test, threshold=0.3)\n",
    "# evaluate_dict[flood_rf.__class__.__name__] = eval_values\n",
    "\n",
    "plot_confusion_matrix(eval_values['confusion_matrix'])\n",
    "print(f\"accuracy: {eval_values['accuracy']}\")\n",
    "print(f\"precision: {eval_values['precision']}\")\n",
    "print(f\"recall: {eval_values['recall']}\")"
   ]
  },
  {
   "cell_type": "code",
   "execution_count": 48,
   "metadata": {},
   "outputs": [
    {
     "data": {
      "text/plain": [
       "['weights\\\\ML\\\\flood_predictor_random_forest.joblib']"
      ]
     },
     "execution_count": 48,
     "metadata": {},
     "output_type": "execute_result"
    }
   ],
   "source": [
    "# dump(flood_rf, ML_dir / 'flood_predictor_random_forest.joblib')"
   ]
  },
  {
   "cell_type": "markdown",
   "metadata": {},
   "source": [
    "# 3. Damage prediction"
   ]
  },
  {
   "cell_type": "code",
   "execution_count": 63,
   "metadata": {},
   "outputs": [
    {
     "name": "stdout",
     "output_type": "stream",
     "text": [
      "LINEAR_TARGETS :['TotalDeaths', 'NoInjured', 'TotalDamageAdjusted(000US$)']\n",
      "ATTRIBUTES :['Year', 'Month', 'MainLandfallLocation', 'OFDAResponse', 'Appeal', 'Declaration', 'LandfallMagnitude(kph)', 'LandfallPressure(mb)', 'Flood', 'Slide']\n",
      "Train size 165\n",
      "Test size: 19\n"
     ]
    }
   ],
   "source": [
    "from src.const import LINEAR_TARGETS\n",
    "\n",
    "print(f\"LINEAR_TARGETS :{LINEAR_TARGETS}\")\n",
    "print(f\"ATTRIBUTES :{ATTRIBUTES + CATEGORICAL_TARGETS}\")\n",
    "\n",
    "slide_df = base_df.copy()\n",
    "X = slide_df[ATTRIBUTES + CATEGORICAL_TARGETS]\n",
    "y = slide_df[LINEAR_TARGETS[0]]\n",
    "\n",
    "X_train, X_test, y_train, y_test = train_test_split(X, y, test_size=0.1, random_state=1)\n",
    "\n",
    "# standardize\n",
    "scaler = StandardScaler()\n",
    "X_train_scaled = scaler.fit_transform(X_train)\n",
    "X_test_scaled = scaler.transform(X_test)\n",
    "\n",
    "\n",
    "print(f\"Train size {len(X_train)}\")\n",
    "print(f\"Test size: {len(X_test)}\")\n"
   ]
  }
 ],
 "metadata": {
  "kernelspec": {
   "display_name": "env",
   "language": "python",
   "name": "python3"
  },
  "language_info": {
   "codemirror_mode": {
    "name": "ipython",
    "version": 3
   },
   "file_extension": ".py",
   "mimetype": "text/x-python",
   "name": "python",
   "nbconvert_exporter": "python",
   "pygments_lexer": "ipython3",
   "version": "3.10.14"
  }
 },
 "nbformat": 4,
 "nbformat_minor": 2
}
