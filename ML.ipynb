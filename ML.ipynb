{
 "cells": [
  {
   "cell_type": "code",
   "execution_count": 1,
   "metadata": {},
   "outputs": [],
   "source": [
    "import pandas as pd"
   ]
  },
  {
   "cell_type": "code",
   "execution_count": 2,
   "metadata": {},
   "outputs": [
    {
     "name": "stdout",
     "output_type": "stream",
     "text": [
      "LINEAR_TARGETS :['TotalDeaths', 'NoInjured', 'TotalDamageAdjusted(000US$)']\n",
      "attribute :['Year', 'Month', 'MainLandfallLocation', 'Flood', 'Slide', 'OFDAResponse', 'Appeal', 'Declaration', 'LandfallMagnitude(kph)', 'LandfallPressure(mb)', 'CPI']\n"
     ]
    }
   ],
   "source": [
    "from src.const import DATA_HEAD, LINEAR_TARGETS\n",
    "\n",
    "data_filename = DATA_HEAD / \"STORM_preprocessed_medianfill_1.csv\"\n",
    "\n",
    "df = pd.read_csv(str(data_filename), index_col=0)\n",
    "\n",
    "attribute = [col for col in df.columns if col not in LINEAR_TARGETS and df[col].dtype != object]\n",
    "attribute.remove('TotalDamage(000US$)')\n",
    "print(f\"LINEAR_TARGETS :{LINEAR_TARGETS}\")\n",
    "print(f\"attribute :{attribute}\")"
   ]
  },
  {
   "cell_type": "markdown",
   "metadata": {},
   "source": [
    "\n",
    "# I. Plan\n",
    "\n",
    "1. **Feature importance using regression or tree-based algorithms**.\n",
    "2. **Estimate future disaster damage**:\n",
    "3. **Train a regression model (e.g.,Multi Linear Regression, Random Forest) to predict TotalDamageAdjusted(000US$)**."
   ]
  },
  {
   "cell_type": "markdown",
   "metadata": {},
   "source": [
    "# 1. Feature importance"
   ]
  }
 ],
 "metadata": {
  "kernelspec": {
   "display_name": "env",
   "language": "python",
   "name": "python3"
  },
  "language_info": {
   "codemirror_mode": {
    "name": "ipython",
    "version": 3
   },
   "file_extension": ".py",
   "mimetype": "text/x-python",
   "name": "python",
   "nbconvert_exporter": "python",
   "pygments_lexer": "ipython3",
   "version": "3.10.14"
  }
 },
 "nbformat": 4,
 "nbformat_minor": 2
}
