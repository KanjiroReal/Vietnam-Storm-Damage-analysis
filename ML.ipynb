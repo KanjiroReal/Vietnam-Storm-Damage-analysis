{
 "cells": [
  {
   "cell_type": "code",
   "execution_count": 37,
   "metadata": {},
   "outputs": [],
   "source": [
    "from joblib import dump, load\n",
    "\n",
    "import pandas as pd\n",
    "import matplotlib.pyplot as plt"
   ]
  },
  {
   "cell_type": "code",
   "execution_count": 38,
   "metadata": {},
   "outputs": [
    {
     "data": {
      "text/html": [
       "<div>\n",
       "<style scoped>\n",
       "    .dataframe tbody tr th:only-of-type {\n",
       "        vertical-align: middle;\n",
       "    }\n",
       "\n",
       "    .dataframe tbody tr th {\n",
       "        vertical-align: top;\n",
       "    }\n",
       "\n",
       "    .dataframe thead th {\n",
       "        text-align: right;\n",
       "    }\n",
       "</style>\n",
       "<table border=\"1\" class=\"dataframe\">\n",
       "  <thead>\n",
       "    <tr style=\"text-align: right;\">\n",
       "      <th></th>\n",
       "      <th>ID</th>\n",
       "      <th>EventName</th>\n",
       "      <th>Year</th>\n",
       "      <th>Month</th>\n",
       "      <th>DisasterType</th>\n",
       "      <th>DisasterSubtype</th>\n",
       "      <th>MainLandfallLocation</th>\n",
       "      <th>Flood</th>\n",
       "      <th>Slide</th>\n",
       "      <th>OFDAResponse</th>\n",
       "      <th>Appeal</th>\n",
       "      <th>Declaration</th>\n",
       "      <th>LandfallMagnitude(kph)</th>\n",
       "      <th>LandfallPressure(mb)</th>\n",
       "      <th>TotalDeaths</th>\n",
       "      <th>NoInjured</th>\n",
       "      <th>TotalDamage(000US$)</th>\n",
       "      <th>TotalDamageAdjusted(000US$)</th>\n",
       "      <th>CPI</th>\n",
       "    </tr>\n",
       "  </thead>\n",
       "  <tbody>\n",
       "    <tr>\n",
       "      <th>0</th>\n",
       "      <td>STORM_NAN_1953</td>\n",
       "      <td>NaN</td>\n",
       "      <td>1953</td>\n",
       "      <td>9</td>\n",
       "      <td>Storm</td>\n",
       "      <td>Tropical cyclone</td>\n",
       "      <td>8</td>\n",
       "      <td>0</td>\n",
       "      <td>0</td>\n",
       "      <td>0</td>\n",
       "      <td>0</td>\n",
       "      <td>0</td>\n",
       "      <td>92</td>\n",
       "      <td>989</td>\n",
       "      <td>1000</td>\n",
       "      <td>20</td>\n",
       "      <td>19400</td>\n",
       "      <td>211880</td>\n",
       "      <td>9.156133</td>\n",
       "    </tr>\n",
       "    <tr>\n",
       "      <th>1</th>\n",
       "      <td>STORM_VIOLET_1964</td>\n",
       "      <td>Violet</td>\n",
       "      <td>1964</td>\n",
       "      <td>9</td>\n",
       "      <td>Storm</td>\n",
       "      <td>Tropical cyclone</td>\n",
       "      <td>4</td>\n",
       "      <td>1</td>\n",
       "      <td>1</td>\n",
       "      <td>0</td>\n",
       "      <td>0</td>\n",
       "      <td>0</td>\n",
       "      <td>92</td>\n",
       "      <td>989</td>\n",
       "      <td>18</td>\n",
       "      <td>20</td>\n",
       "      <td>10000</td>\n",
       "      <td>94354</td>\n",
       "      <td>10.598376</td>\n",
       "    </tr>\n",
       "    <tr>\n",
       "      <th>2</th>\n",
       "      <td>STORM_IRIS_1964</td>\n",
       "      <td>Iris</td>\n",
       "      <td>1964</td>\n",
       "      <td>11</td>\n",
       "      <td>Storm</td>\n",
       "      <td>Tropical cyclone</td>\n",
       "      <td>5</td>\n",
       "      <td>1</td>\n",
       "      <td>0</td>\n",
       "      <td>0</td>\n",
       "      <td>0</td>\n",
       "      <td>0</td>\n",
       "      <td>150</td>\n",
       "      <td>960</td>\n",
       "      <td>5100</td>\n",
       "      <td>20</td>\n",
       "      <td>70000</td>\n",
       "      <td>660479</td>\n",
       "      <td>10.598376</td>\n",
       "    </tr>\n",
       "    <tr>\n",
       "      <th>3</th>\n",
       "      <td>STORM_JOAN_1964</td>\n",
       "      <td>Joan</td>\n",
       "      <td>1964</td>\n",
       "      <td>11</td>\n",
       "      <td>Storm</td>\n",
       "      <td>Tropical cyclone</td>\n",
       "      <td>5</td>\n",
       "      <td>1</td>\n",
       "      <td>0</td>\n",
       "      <td>0</td>\n",
       "      <td>0</td>\n",
       "      <td>0</td>\n",
       "      <td>130</td>\n",
       "      <td>980</td>\n",
       "      <td>2500</td>\n",
       "      <td>20</td>\n",
       "      <td>15000</td>\n",
       "      <td>141531</td>\n",
       "      <td>10.598376</td>\n",
       "    </tr>\n",
       "    <tr>\n",
       "      <th>4</th>\n",
       "      <td>STORM_KATE_1964</td>\n",
       "      <td>Kate</td>\n",
       "      <td>1964</td>\n",
       "      <td>11</td>\n",
       "      <td>Storm</td>\n",
       "      <td>Tropical cyclone</td>\n",
       "      <td>6</td>\n",
       "      <td>1</td>\n",
       "      <td>0</td>\n",
       "      <td>0</td>\n",
       "      <td>0</td>\n",
       "      <td>0</td>\n",
       "      <td>130</td>\n",
       "      <td>970</td>\n",
       "      <td>0</td>\n",
       "      <td>20</td>\n",
       "      <td>3000</td>\n",
       "      <td>28306</td>\n",
       "      <td>10.598376</td>\n",
       "    </tr>\n",
       "  </tbody>\n",
       "</table>\n",
       "</div>"
      ],
      "text/plain": [
       "                  ID EventName  Year  Month DisasterType   DisasterSubtype  \\\n",
       "0     STORM_NAN_1953       NaN  1953      9        Storm  Tropical cyclone   \n",
       "1  STORM_VIOLET_1964   Violet   1964      9        Storm  Tropical cyclone   \n",
       "2    STORM_IRIS_1964      Iris  1964     11        Storm  Tropical cyclone   \n",
       "3    STORM_JOAN_1964      Joan  1964     11        Storm  Tropical cyclone   \n",
       "4    STORM_KATE_1964      Kate  1964     11        Storm  Tropical cyclone   \n",
       "\n",
       "   MainLandfallLocation  Flood  Slide  OFDAResponse  Appeal  Declaration  \\\n",
       "0                     8      0      0             0       0            0   \n",
       "1                     4      1      1             0       0            0   \n",
       "2                     5      1      0             0       0            0   \n",
       "3                     5      1      0             0       0            0   \n",
       "4                     6      1      0             0       0            0   \n",
       "\n",
       "   LandfallMagnitude(kph)  LandfallPressure(mb)  TotalDeaths  NoInjured  \\\n",
       "0                      92                   989         1000         20   \n",
       "1                      92                   989           18         20   \n",
       "2                     150                   960         5100         20   \n",
       "3                     130                   980         2500         20   \n",
       "4                     130                   970            0         20   \n",
       "\n",
       "   TotalDamage(000US$)  TotalDamageAdjusted(000US$)        CPI  \n",
       "0                19400                       211880   9.156133  \n",
       "1                10000                        94354  10.598376  \n",
       "2                70000                       660479  10.598376  \n",
       "3                15000                       141531  10.598376  \n",
       "4                 3000                        28306  10.598376  "
      ]
     },
     "execution_count": 38,
     "metadata": {},
     "output_type": "execute_result"
    }
   ],
   "source": [
    "from src.const import DATA_HEAD, WEIGHTS_HEAD\n",
    "ML_dir = WEIGHTS_HEAD / \"ML\"\n",
    "\n",
    "data_filename = DATA_HEAD / \"STORM_preprocessed_medianfill_1.csv\"\n",
    "base_df = pd.read_csv(str(data_filename), index_col=0)\n",
    "base_df.head()"
   ]
  },
  {
   "cell_type": "code",
   "execution_count": 39,
   "metadata": {},
   "outputs": [],
   "source": [
    "SEED = 1"
   ]
  },
  {
   "cell_type": "markdown",
   "metadata": {},
   "source": [
    "\n",
    "# I. Plan\n",
    "\n",
    "1. **Featue importance**\n",
    "2. **Categorical classification**\n",
    "3. **damage prediction**"
   ]
  },
  {
   "cell_type": "markdown",
   "metadata": {},
   "source": [
    "# 1. Feature importance"
   ]
  },
  {
   "cell_type": "markdown",
   "metadata": {},
   "source": [
    "Using GBMs method to rank the attributes impact to the target base on its contribute <br>\n",
    "[go to file](./GBMs.ipynb)"
   ]
  },
  {
   "cell_type": "markdown",
   "metadata": {},
   "source": [
    "# 2. Categorical classification"
   ]
  },
  {
   "cell_type": "markdown",
   "metadata": {},
   "source": [
    "\n",
    "| **Mô hình**               | **Ưu điểm**                            | **Nhược điểm**                          | **Khi nào dùng?**                       |\n",
    "|---------------------------|----------------------------------------|----------------------------------------|----------------------------------------|\n",
    "| Logistic Regression       | Đơn giản, dễ hiểu                      | Chỉ hiệu quả với dữ liệu tuyến tính    | Dữ liệu tuyến tính                     |\n",
    "| KNN                       | Dễ triển khai                          | Dự đoán chậm với dữ liệu lớn           | Dữ liệu nhỏ, không tuyến tính          |\n",
    "| Decision Tree             | Dễ trực quan hóa                       | Dễ bị overfitting                      | Phân loại nhanh                        |\n",
    "| Random Forest             | Giảm overfitting                       | Tốn tài nguyên hơn Decision Tree       | Dữ liệu phức tạp                       |\n",
    "| SVM                       | Hiệu quả với không gian chiều cao      | Khó mở rộng cho dữ liệu lớn            | Dữ liệu chiều cao                      |\n",
    "| Naive Bayes               | Nhanh, hiệu quả                        | Giả định độc lập không luôn đúng       | Phân loại văn bản                      |\n",
    "| Gradient Boosting         | Kết quả tốt                            | Tốn tài nguyên                         | Dữ liệu phức tạp, cần hiệu quả cao     |\n",
    "| Neural Network (MLP)      | Học được mẫu phức tạp                  | Cần nhiều tài nguyên                   | Khi có nhiều dữ liệu                   |\n",
    "\n",
    "**Model selection**\n",
    "1. `Logistic Regression`\n",
    "2. `KNN`\n",
    "3. `Random Forest`\n",
    "   - Random Forest works well with data that has both linear and non-linear features. \n",
    "   - It does not require normalization or transformation of the data (i.e., the data does not need to follow the same distribution). \n",
    "   - The model minimizes overfitting by aggregating from multiple decision trees.\n",
    "4. `SVM with rbf or Polynomial kernel`\n",
    "   - SVM with RBF or Polynomial kernel can turn non-linear data into linear in higher space. \n",
    "   - Suitable if data is moderate in size (SVM does not scale well for large data). "
   ]
  },
  {
   "cell_type": "markdown",
   "metadata": {},
   "source": [
    "## 2.1 SLIDE"
   ]
  },
  {
   "cell_type": "code",
   "execution_count": 40,
   "metadata": {},
   "outputs": [
    {
     "name": "stdout",
     "output_type": "stream",
     "text": [
      "CATEGORICAL_TARGETS :['Flood', 'Slide']\n",
      "ATTRIBUTES :['Year', 'Month', 'MainLandfallLocation', 'OFDAResponse', 'Appeal', 'Declaration', 'LandfallMagnitude(kph)', 'LandfallPressure(mb)']\n",
      "Train size 165\n",
      " Flood\n",
      "1    139\n",
      "0     26\n",
      "Name: count, dtype: int64\n",
      "Test size: 19\n",
      " Flood\n",
      "1    14\n",
      "0     5\n",
      "Name: count, dtype: int64\n"
     ]
    }
   ],
   "source": [
    "from sklearn.model_selection import train_test_split\n",
    "from sklearn.preprocessing import StandardScaler\n",
    "\n",
    "from src.const import CATEGORICAL_TARGETS, ATTRIBUTES\n",
    "\n",
    "evaluate_dict = dict()\n",
    "\n",
    "print(f\"CATEGORICAL_TARGETS :{CATEGORICAL_TARGETS}\")\n",
    "print(f\"ATTRIBUTES :{ATTRIBUTES}\")\n",
    "\n",
    "slide_df = base_df.copy()\n",
    "X = slide_df[ATTRIBUTES]\n",
    "y = slide_df[CATEGORICAL_TARGETS[0]]\n",
    "\n",
    "X_train, X_test, y_train, y_test = train_test_split(X, y, test_size=0.1, random_state=SEED)\n",
    "\n",
    "# standardize\n",
    "scaler = StandardScaler()\n",
    "X_train_scaled = scaler.fit_transform(X_train)\n",
    "X_test_scaled = scaler.transform(X_test)\n",
    "\n",
    "X_train = X_train_scaled\n",
    "X_test = X_test_scaled\n",
    "\n",
    "print(f\"Train size {len(X_train)}\\n\",y_train.value_counts())\n",
    "print(f\"Test size: {len(X_test)}\\n\",y_test.value_counts())"
   ]
  },
  {
   "cell_type": "code",
   "execution_count": 41,
   "metadata": {},
   "outputs": [],
   "source": [
    "epochs = 1000\n",
    "thresh = 0.8"
   ]
  },
  {
   "cell_type": "markdown",
   "metadata": {},
   "source": [
    "### 2.1.1 Logistic regression"
   ]
  },
  {
   "cell_type": "code",
   "execution_count": 42,
   "metadata": {},
   "outputs": [
    {
     "data": {
      "image/png": "[encoded data removed]",
      "text/plain": [
       "<Figure size 600x400 with 1 Axes>"
      ]
     },
     "metadata": {},
     "output_type": "display_data"
    },
    {
     "name": "stdout",
     "output_type": "stream",
     "text": [
      "accuracy: 0.68\n",
      "precision: 0.79\n",
      "recall: 0.79\n"
     ]
    }
   ],
   "source": [
    "from sklearn.linear_model import LogisticRegression\n",
    "\n",
    "from src.utils import evaluate, plot_confusion_matrix\n",
    "\n",
    "\n",
    "slide_lr = LogisticRegression(max_iter=epochs, random_state=SEED)\n",
    "slide_lr.fit(X_train, y_train)\n",
    "\n",
    "eval_values = evaluate(slide_lr, X_test, y_test, threshold=thresh)\n",
    "evaluate_dict[slide_lr.__class__.__name__] = eval_values\n",
    "\n",
    "plot_confusion_matrix(eval_values['confusion_matrix'])\n",
    "print(f\"accuracy: {eval_values['accuracy']}\")\n",
    "print(f\"precision: {eval_values['precision']}\")\n",
    "print(f\"recall: {eval_values['recall']}\")"
   ]
  },
  {
   "cell_type": "markdown",
   "metadata": {},
   "source": [
    "### 2.1.2 KNN"
   ]
  },
  {
   "cell_type": "code",
   "execution_count": 43,
   "metadata": {},
   "outputs": [
    {
     "data": {
      "image/png": "[encoded data removed]",
      "text/plain": [
       "<Figure size 600x400 with 1 Axes>"
      ]
     },
     "metadata": {},
     "output_type": "display_data"
    },
    {
     "name": "stdout",
     "output_type": "stream",
     "text": [
      "accuracy: 0.79\n",
      "precision: 0.86\n",
      "recall: 0.86\n"
     ]
    }
   ],
   "source": [
    "from sklearn.neighbors import KNeighborsClassifier\n",
    "\n",
    "slide_knn = KNeighborsClassifier(n_neighbors=2)\n",
    "slide_knn.fit(X_train, y_train)\n",
    "\n",
    "eval_values = evaluate(slide_knn, X_test, y_test, threshold=thresh)\n",
    "evaluate_dict[slide_knn.__class__.__name__] = eval_values\n",
    "\n",
    "plot_confusion_matrix(eval_values['confusion_matrix'])\n",
    "print(f\"accuracy: {eval_values['accuracy']}\")\n",
    "print(f\"precision: {eval_values['precision']}\")\n",
    "print(f\"recall: {eval_values['recall']}\")"
   ]
  },
  {
   "cell_type": "markdown",
   "metadata": {},
   "source": [
    "### 2.1.3 Random Forest"
   ]
  },
  {
   "cell_type": "code",
   "execution_count": 44,
   "metadata": {},
   "outputs": [
    {
     "data": {
      "image/png": "[encoded data removed]",
      "text/plain": [
       "<Figure size 600x400 with 1 Axes>"
      ]
     },
     "metadata": {},
     "output_type": "display_data"
    },
    {
     "name": "stdout",
     "output_type": "stream",
     "text": [
      "accuracy: 0.84\n",
      "precision: 0.92\n",
      "recall: 0.86\n"
     ]
    }
   ],
   "source": [
    "from sklearn.ensemble import RandomForestClassifier\n",
    "\n",
    "slide_rf = RandomForestClassifier(n_estimators=epochs, random_state=SEED)\n",
    "slide_rf.fit(X_train, y_train)\n",
    "\n",
    "eval_values = evaluate(slide_rf, X_test, y_test, threshold=thresh)\n",
    "evaluate_dict[slide_rf.__class__.__name__] = eval_values\n",
    "\n",
    "plot_confusion_matrix(eval_values['confusion_matrix'])\n",
    "print(f\"accuracy: {eval_values['accuracy']}\")\n",
    "print(f\"precision: {eval_values['precision']}\")\n",
    "print(f\"recall: {eval_values['recall']}\")"
   ]
  },
  {
   "cell_type": "markdown",
   "metadata": {},
   "source": [
    "### 2.1.4 SVM with `rbf kernel`"
   ]
  },
  {
   "cell_type": "code",
   "execution_count": 45,
   "metadata": {},
   "outputs": [
    {
     "data": {
      "image/png": "[encoded data removed]",
      "text/plain": [
       "<Figure size 600x400 with 1 Axes>"
      ]
     },
     "metadata": {},
     "output_type": "display_data"
    },
    {
     "name": "stdout",
     "output_type": "stream",
     "text": [
      "accuracy: 0.84\n",
      "precision: 0.87\n",
      "recall: 0.93\n"
     ]
    }
   ],
   "source": [
    "from sklearn.svm import SVC\n",
    "\n",
    "slide_svm = SVC(kernel='rbf', random_state=SEED, probability=True, max_iter=epochs)\n",
    "slide_svm.fit(X_train, y_train)\n",
    "\n",
    "eval_values = evaluate(slide_svm, X_test, y_test, threshold=thresh)\n",
    "evaluate_dict[slide_svm.__class__.__name__] = eval_values\n",
    "\n",
    "plot_confusion_matrix(eval_values['confusion_matrix'])\n",
    "print(f\"accuracy: {eval_values['accuracy']}\")\n",
    "print(f\"precision: {eval_values['precision']}\")\n",
    "print(f\"recall: {eval_values['recall']}\")"
   ]
  },
  {
   "cell_type": "code",
   "execution_count": 46,
   "metadata": {},
   "outputs": [
    {
     "data": {
      "text/html": [
       "<style type=\"text/css\">\n",
       "#T_2f5f7_row2_col0, #T_2f5f7_row2_col1, #T_2f5f7_row2_col4, #T_2f5f7_row3_col0, #T_2f5f7_row3_col1, #T_2f5f7_row3_col3 {\n",
       "  background-color: black;\n",
       "}\n",
       "#T_2f5f7_row2_col2, #T_2f5f7_row2_col3, #T_2f5f7_row3_col2, #T_2f5f7_row3_col4 {\n",
       "  color: red;\n",
       "  background-color: black;\n",
       "}\n",
       "</style>\n",
       "<table id=\"T_2f5f7\">\n",
       "  <thead>\n",
       "    <tr>\n",
       "      <th class=\"blank level0\" >&nbsp;</th>\n",
       "      <th id=\"T_2f5f7_level0_col0\" class=\"col_heading level0 col0\" >Method</th>\n",
       "      <th id=\"T_2f5f7_level0_col1\" class=\"col_heading level0 col1\" >confusion_matrix</th>\n",
       "      <th id=\"T_2f5f7_level0_col2\" class=\"col_heading level0 col2\" >accuracy</th>\n",
       "      <th id=\"T_2f5f7_level0_col3\" class=\"col_heading level0 col3\" >precision</th>\n",
       "      <th id=\"T_2f5f7_level0_col4\" class=\"col_heading level0 col4\" >recall</th>\n",
       "    </tr>\n",
       "  </thead>\n",
       "  <tbody>\n",
       "    <tr>\n",
       "      <th id=\"T_2f5f7_level0_row0\" class=\"row_heading level0 row0\" >0</th>\n",
       "      <td id=\"T_2f5f7_row0_col0\" class=\"data row0 col0\" >LogisticRegression</td>\n",
       "      <td id=\"T_2f5f7_row0_col1\" class=\"data row0 col1\" >[[ 2  3]\n",
       " [ 3 11]]</td>\n",
       "      <td id=\"T_2f5f7_row0_col2\" class=\"data row0 col2\" >0.68</td>\n",
       "      <td id=\"T_2f5f7_row0_col3\" class=\"data row0 col3\" >0.79</td>\n",
       "      <td id=\"T_2f5f7_row0_col4\" class=\"data row0 col4\" >0.79</td>\n",
       "    </tr>\n",
       "    <tr>\n",
       "      <th id=\"T_2f5f7_level0_row1\" class=\"row_heading level0 row1\" >1</th>\n",
       "      <td id=\"T_2f5f7_row1_col0\" class=\"data row1 col0\" >KNeighborsClassifier</td>\n",
       "      <td id=\"T_2f5f7_row1_col1\" class=\"data row1 col1\" >[[ 3  2]\n",
       " [ 2 12]]</td>\n",
       "      <td id=\"T_2f5f7_row1_col2\" class=\"data row1 col2\" >0.79</td>\n",
       "      <td id=\"T_2f5f7_row1_col3\" class=\"data row1 col3\" >0.86</td>\n",
       "      <td id=\"T_2f5f7_row1_col4\" class=\"data row1 col4\" >0.86</td>\n",
       "    </tr>\n",
       "    <tr>\n",
       "      <th id=\"T_2f5f7_level0_row2\" class=\"row_heading level0 row2\" >2</th>\n",
       "      <td id=\"T_2f5f7_row2_col0\" class=\"data row2 col0\" >RandomForestClassifier</td>\n",
       "      <td id=\"T_2f5f7_row2_col1\" class=\"data row2 col1\" >[[ 4  1]\n",
       " [ 2 12]]</td>\n",
       "      <td id=\"T_2f5f7_row2_col2\" class=\"data row2 col2\" >0.84</td>\n",
       "      <td id=\"T_2f5f7_row2_col3\" class=\"data row2 col3\" >0.92</td>\n",
       "      <td id=\"T_2f5f7_row2_col4\" class=\"data row2 col4\" >0.86</td>\n",
       "    </tr>\n",
       "    <tr>\n",
       "      <th id=\"T_2f5f7_level0_row3\" class=\"row_heading level0 row3\" >3</th>\n",
       "      <td id=\"T_2f5f7_row3_col0\" class=\"data row3 col0\" >SVC</td>\n",
       "      <td id=\"T_2f5f7_row3_col1\" class=\"data row3 col1\" >[[ 3  2]\n",
       " [ 1 13]]</td>\n",
       "      <td id=\"T_2f5f7_row3_col2\" class=\"data row3 col2\" >0.84</td>\n",
       "      <td id=\"T_2f5f7_row3_col3\" class=\"data row3 col3\" >0.87</td>\n",
       "      <td id=\"T_2f5f7_row3_col4\" class=\"data row3 col4\" >0.93</td>\n",
       "    </tr>\n",
       "  </tbody>\n",
       "</table>\n"
      ],
      "text/plain": [
       "<pandas.io.formats.style.Styler at 0x21e30675060>"
      ]
     },
     "execution_count": 46,
     "metadata": {},
     "output_type": "execute_result"
    }
   ],
   "source": [
    "# compare metrics value\n",
    "def highlight_max(s):\n",
    "    is_max = s == s.max()\n",
    "    return ['color: red' if v else '' for v in is_max]\n",
    "\n",
    "def highlight_row(row, selected_method):\n",
    "    return ['background-color: black;' if row['Method'] in selected_method else '' \n",
    "            for _ in row]\n",
    "\n",
    "selected_method = [slide_rf.__class__.__name__, slide_svm.__class__.__name__]\n",
    "eval_value_df = pd.DataFrame(evaluate_dict).T.reset_index().rename(columns={\"index\":\"Method\"})\n",
    "\n",
    "eval_value_df = (\n",
    "    eval_value_df.style\n",
    "    .apply(highlight_max, subset=[\"accuracy\", \"precision\", \"recall\"])\n",
    "    .apply(lambda row: highlight_row(row, selected_method), axis=1 )\n",
    "    .format(precision=2)\n",
    ")\n",
    "\n",
    "eval_value_df"
   ]
  },
  {
   "cell_type": "markdown",
   "metadata": {},
   "source": [
    "`Random Forest` and `SVM` archieve the good score in precision , recall and accuracy with same `1000 epoch` and `0.8 threshold for precision` because of <u>imbalance data</u>"
   ]
  },
  {
   "cell_type": "code",
   "execution_count": 47,
   "metadata": {},
   "outputs": [
    {
     "data": {
      "text/plain": [
       "['weights\\\\ML\\\\slide_predictor_svm.joblib']"
      ]
     },
     "execution_count": 47,
     "metadata": {},
     "output_type": "execute_result"
    }
   ],
   "source": [
    "dump(slide_rf, ML_dir / 'slide_predictor_random_forest.joblib')\n",
    "dump(slide_svm, ML_dir / 'slide_predictor_svm.joblib')"
   ]
  },
  {
   "cell_type": "markdown",
   "metadata": {},
   "source": [
    "## 2.2 FLOOD"
   ]
  },
  {
   "cell_type": "code",
   "execution_count": 48,
   "metadata": {},
   "outputs": [
    {
     "name": "stdout",
     "output_type": "stream",
     "text": [
      "Train size 165\n",
      " Slide\n",
      "0    108\n",
      "1     57\n",
      "Name: count, dtype: int64\n",
      "Test size: 19\n",
      " Slide\n",
      "0    11\n",
      "1     8\n",
      "Name: count, dtype: int64\n"
     ]
    }
   ],
   "source": [
    "# prepare\n",
    "\n",
    "flood_df = base_df.copy()\n",
    "X = flood_df[ATTRIBUTES]\n",
    "y = flood_df[CATEGORICAL_TARGETS[1]]\n",
    "\n",
    "X_train, X_test, y_train, y_test = train_test_split(X, y, test_size=0.1, random_state=2)\n",
    "\n",
    "# standardize\n",
    "scaler = StandardScaler()\n",
    "X_train_scaled = scaler.fit_transform(X_train)\n",
    "X_test_scaled = scaler.transform(X_test)\n",
    "\n",
    "print(f\"Train size {len(X_train)}\\n\",y_train.value_counts())\n",
    "print(f\"Test size: {len(X_test)}\\n\",y_test.value_counts())"
   ]
  },
  {
   "cell_type": "markdown",
   "metadata": {},
   "source": [
    "### Random Forest"
   ]
  },
  {
   "cell_type": "code",
   "execution_count": 49,
   "metadata": {},
   "outputs": [
    {
     "data": {
      "image/png": "[encoded data removed]",
      "text/plain": [
       "<Figure size 600x400 with 1 Axes>"
      ]
     },
     "metadata": {},
     "output_type": "display_data"
    },
    {
     "name": "stdout",
     "output_type": "stream",
     "text": [
      "accuracy: 0.68\n",
      "precision: 0.58\n",
      "recall: 0.88\n"
     ]
    }
   ],
   "source": [
    "from sklearn.ensemble import RandomForestClassifier\n",
    "\n",
    "flood_rf = RandomForestClassifier(n_estimators=epochs, random_state=SEED)\n",
    "flood_rf.fit(X_train, y_train)\n",
    "\n",
    "eval_values = evaluate(flood_rf, X_test, y_test, threshold=0.3)\n",
    "# evaluate_dict[flood_rf.__class__.__name__] = eval_values\n",
    "\n",
    "plot_confusion_matrix(eval_values['confusion_matrix'])\n",
    "print(f\"accuracy: {eval_values['accuracy']}\")\n",
    "print(f\"precision: {eval_values['precision']}\")\n",
    "print(f\"recall: {eval_values['recall']}\")"
   ]
  },
  {
   "cell_type": "code",
   "execution_count": 50,
   "metadata": {},
   "outputs": [
    {
     "data": {
      "text/plain": [
       "['weights\\\\ML\\\\flood_predictor_random_forest.joblib']"
      ]
     },
     "execution_count": 50,
     "metadata": {},
     "output_type": "execute_result"
    }
   ],
   "source": [
    "dump(flood_rf, ML_dir / 'flood_predictor_random_forest.joblib')"
   ]
  },
  {
   "cell_type": "markdown",
   "metadata": {},
   "source": [
    "# 3. Damage prediction"
   ]
  },
  {
   "cell_type": "code",
   "execution_count": 51,
   "metadata": {},
   "outputs": [],
   "source": [
    "thresh = 0.3"
   ]
  },
  {
   "cell_type": "markdown",
   "metadata": {},
   "source": [
    "## 3.1 NoDe*th"
   ]
  },
  {
   "cell_type": "code",
   "execution_count": 52,
   "metadata": {},
   "outputs": [
    {
     "name": "stdout",
     "output_type": "stream",
     "text": [
      "LINEAR_TARGETS :TotalDeaths\n",
      "ATTRIBUTES :['Year', 'Month', 'MainLandfallLocation', 'OFDAResponse', 'Appeal', 'Declaration', 'LandfallMagnitude(kph)', 'LandfallPressure(mb)', 'Flood', 'Slide']\n",
      "Train size 165\n",
      "Test size: 19\n"
     ]
    }
   ],
   "source": [
    "from src.const import LINEAR_TARGETS\n",
    "\n",
    "evaluate_dict = dict()\n",
    "\n",
    "print(f\"LINEAR_TARGETS :{LINEAR_TARGETS[0]}\")\n",
    "print(f\"ATTRIBUTES :{ATTRIBUTES + CATEGORICAL_TARGETS}\")\n",
    "\n",
    "slide_df = base_df.copy()\n",
    "X = slide_df[ATTRIBUTES + CATEGORICAL_TARGETS]\n",
    "y = slide_df[LINEAR_TARGETS[0]]\n",
    "\n",
    "X_train, X_test, y_train, y_test = train_test_split(X, y, test_size=0.1, random_state=SEED)\n",
    "\n",
    "# standardize\n",
    "scaler = StandardScaler()\n",
    "X_train_scaled = scaler.fit_transform(X_train)\n",
    "X_test_scaled = scaler.transform(X_test)\n",
    "\n",
    "X_train = X_train_scaled\n",
    "X_test = X_test_scaled\n",
    "print(f\"Train size {len(X_train)}\")\n",
    "print(f\"Test size: {len(X_test)}\")\n"
   ]
  },
  {
   "cell_type": "markdown",
   "metadata": {},
   "source": [
    "### 3.1.1 Multi Linear Regression"
   ]
  },
  {
   "cell_type": "code",
   "execution_count": 53,
   "metadata": {},
   "outputs": [
    {
     "data": {
      "text/plain": [
       "{'mae': 193.71,\n",
       " 'mse': 68792.19,\n",
       " 'rmse': 262.28,\n",
       " 'mae_upperbound_tolerance': -177.9,\n",
       " 'rmse_upperbound_tolerance': -240.98,\n",
       " 'mse_upperbound_tolerance': -67279.06}"
      ]
     },
     "execution_count": 53,
     "metadata": {},
     "output_type": "execute_result"
    }
   ],
   "source": [
    "from sklearn.linear_model import LinearRegression\n",
    "\n",
    "# de*th_multilinearregression\n",
    "d_mlr = LinearRegression()\n",
    "d_mlr.fit(X_train, y_train)\n",
    "\n",
    "eval_values = evaluate(d_mlr, X_test, y_test, threshold=thresh, mode=\"regression\")\n",
    "evaluate_dict[\"MultiLinearRegression\"] = eval_values\n",
    "\n",
    "eval_values"
   ]
  },
  {
   "cell_type": "markdown",
   "metadata": {},
   "source": [
    "### 3.1.2 Random Forest"
   ]
  },
  {
   "cell_type": "code",
   "execution_count": 54,
   "metadata": {},
   "outputs": [
    {
     "data": {
      "text/plain": [
       "{'mae': 219.28,\n",
       " 'mse': 594628.47,\n",
       " 'rmse': 771.12,\n",
       " 'mae_upperbound_tolerance': -203.47,\n",
       " 'rmse_upperbound_tolerance': -749.82,\n",
       " 'mse_upperbound_tolerance': -593115.33}"
      ]
     },
     "execution_count": 54,
     "metadata": {},
     "output_type": "execute_result"
    }
   ],
   "source": [
    "from sklearn.ensemble import RandomForestRegressor\n",
    "\n",
    "d_rf = RandomForestRegressor(n_estimators=epochs, random_state=SEED)\n",
    "d_rf.fit(X_train, y_train)\n",
    "\n",
    "eval_values = evaluate(d_rf, X_test, y_test, threshold=thresh, mode=\"regression\")\n",
    "evaluate_dict[d_rf.__class__.__name__] = eval_values\n",
    "\n",
    "eval_values"
   ]
  },
  {
   "cell_type": "markdown",
   "metadata": {},
   "source": [
    "### 3.1.3 SVR - Support Vector Regression"
   ]
  },
  {
   "cell_type": "code",
   "execution_count": 55,
   "metadata": {},
   "outputs": [
    {
     "data": {
      "text/plain": [
       "{'mae': 41.55,\n",
       " 'mse': 5480.19,\n",
       " 'rmse': 74.03,\n",
       " 'mae_upperbound_tolerance': -25.75,\n",
       " 'rmse_upperbound_tolerance': -52.72,\n",
       " 'mse_upperbound_tolerance': -3967.05}"
      ]
     },
     "execution_count": 55,
     "metadata": {},
     "output_type": "execute_result"
    }
   ],
   "source": [
    "from sklearn.svm import SVR\n",
    "\n",
    "d_svm = SVR(kernel=\"poly\", max_iter=epochs)\n",
    "d_svm.fit(X_train, y_train)\n",
    "\n",
    "eval_values = evaluate(d_svm, X_test, y_test, threshold=thresh, mode=\"regression\")\n",
    "evaluate_dict[d_svm.__class__.__name__] = eval_values\n",
    "\n",
    "eval_values"
   ]
  },
  {
   "cell_type": "code",
   "execution_count": 56,
   "metadata": {},
   "outputs": [
    {
     "data": {
      "text/html": [
       "<style type=\"text/css\">\n",
       "#T_bbaf7_row2_col0 {\n",
       "  background-color: black;\n",
       "}\n",
       "#T_bbaf7_row2_col1, #T_bbaf7_row2_col2, #T_bbaf7_row2_col3, #T_bbaf7_row2_col4, #T_bbaf7_row2_col5, #T_bbaf7_row2_col6 {\n",
       "  color: red;\n",
       "  background-color: black;\n",
       "}\n",
       "</style>\n",
       "<table id=\"T_bbaf7\">\n",
       "  <thead>\n",
       "    <tr>\n",
       "      <th class=\"blank level0\" >&nbsp;</th>\n",
       "      <th id=\"T_bbaf7_level0_col0\" class=\"col_heading level0 col0\" >Method</th>\n",
       "      <th id=\"T_bbaf7_level0_col1\" class=\"col_heading level0 col1\" >mae</th>\n",
       "      <th id=\"T_bbaf7_level0_col2\" class=\"col_heading level0 col2\" >mse</th>\n",
       "      <th id=\"T_bbaf7_level0_col3\" class=\"col_heading level0 col3\" >rmse</th>\n",
       "      <th id=\"T_bbaf7_level0_col4\" class=\"col_heading level0 col4\" >mae_upperbound_tolerance</th>\n",
       "      <th id=\"T_bbaf7_level0_col5\" class=\"col_heading level0 col5\" >rmse_upperbound_tolerance</th>\n",
       "      <th id=\"T_bbaf7_level0_col6\" class=\"col_heading level0 col6\" >mse_upperbound_tolerance</th>\n",
       "    </tr>\n",
       "  </thead>\n",
       "  <tbody>\n",
       "    <tr>\n",
       "      <th id=\"T_bbaf7_level0_row0\" class=\"row_heading level0 row0\" >0</th>\n",
       "      <td id=\"T_bbaf7_row0_col0\" class=\"data row0 col0\" >MultiLinearRegression</td>\n",
       "      <td id=\"T_bbaf7_row0_col1\" class=\"data row0 col1\" >193.71</td>\n",
       "      <td id=\"T_bbaf7_row0_col2\" class=\"data row0 col2\" >68792.19</td>\n",
       "      <td id=\"T_bbaf7_row0_col3\" class=\"data row0 col3\" >262.28</td>\n",
       "      <td id=\"T_bbaf7_row0_col4\" class=\"data row0 col4\" >-177.90</td>\n",
       "      <td id=\"T_bbaf7_row0_col5\" class=\"data row0 col5\" >-240.98</td>\n",
       "      <td id=\"T_bbaf7_row0_col6\" class=\"data row0 col6\" >-67279.06</td>\n",
       "    </tr>\n",
       "    <tr>\n",
       "      <th id=\"T_bbaf7_level0_row1\" class=\"row_heading level0 row1\" >1</th>\n",
       "      <td id=\"T_bbaf7_row1_col0\" class=\"data row1 col0\" >RandomForestRegressor</td>\n",
       "      <td id=\"T_bbaf7_row1_col1\" class=\"data row1 col1\" >219.28</td>\n",
       "      <td id=\"T_bbaf7_row1_col2\" class=\"data row1 col2\" >594628.47</td>\n",
       "      <td id=\"T_bbaf7_row1_col3\" class=\"data row1 col3\" >771.12</td>\n",
       "      <td id=\"T_bbaf7_row1_col4\" class=\"data row1 col4\" >-203.47</td>\n",
       "      <td id=\"T_bbaf7_row1_col5\" class=\"data row1 col5\" >-749.82</td>\n",
       "      <td id=\"T_bbaf7_row1_col6\" class=\"data row1 col6\" >-593115.33</td>\n",
       "    </tr>\n",
       "    <tr>\n",
       "      <th id=\"T_bbaf7_level0_row2\" class=\"row_heading level0 row2\" >2</th>\n",
       "      <td id=\"T_bbaf7_row2_col0\" class=\"data row2 col0\" >SVR</td>\n",
       "      <td id=\"T_bbaf7_row2_col1\" class=\"data row2 col1\" >41.55</td>\n",
       "      <td id=\"T_bbaf7_row2_col2\" class=\"data row2 col2\" >5480.19</td>\n",
       "      <td id=\"T_bbaf7_row2_col3\" class=\"data row2 col3\" >74.03</td>\n",
       "      <td id=\"T_bbaf7_row2_col4\" class=\"data row2 col4\" >-25.75</td>\n",
       "      <td id=\"T_bbaf7_row2_col5\" class=\"data row2 col5\" >-52.72</td>\n",
       "      <td id=\"T_bbaf7_row2_col6\" class=\"data row2 col6\" >-3967.05</td>\n",
       "    </tr>\n",
       "  </tbody>\n",
       "</table>\n"
      ],
      "text/plain": [
       "<pandas.io.formats.style.Styler at 0x21e306cf9a0>"
      ]
     },
     "execution_count": 56,
     "metadata": {},
     "output_type": "execute_result"
    }
   ],
   "source": [
    "# compare metrics value\n",
    "def highlight_max(s):\n",
    "    is_max = s == s.max()\n",
    "    return ['color: red' if v else '' for v in is_max]\n",
    "\n",
    "def highlight_min(s):\n",
    "    is_min = s == s.min()\n",
    "    return ['color: red' if v else '' for v in is_min]\n",
    "\n",
    "def highlight_row(row, selected_method):\n",
    "    return ['background-color: black;' if row['Method'] in selected_method else '' \n",
    "            for _ in row]\n",
    "\n",
    "selected_method = [d_svm.__class__.__name__]\n",
    "eval_value_df = pd.DataFrame(evaluate_dict).T.reset_index().rename(columns={\"index\":\"Method\"})\n",
    "\n",
    "eval_value_df = (\n",
    "    eval_value_df.style\n",
    "    .apply(highlight_max, subset=[\"mae_upperbound_tolerance\", \"rmse_upperbound_tolerance\", \"mse_upperbound_tolerance\"])\n",
    "    .apply(highlight_min, subset=[\"mae\", \"mse\", \"rmse\"])\n",
    "    .apply(lambda row: highlight_row(row, selected_method), axis=1 )\n",
    "    .format(precision=2)\n",
    ")\n",
    "\n",
    "eval_value_df"
   ]
  },
  {
   "cell_type": "markdown",
   "metadata": {},
   "source": [
    "`SVR with poly kernel` perform `best` in all type of metrics"
   ]
  },
  {
   "cell_type": "code",
   "execution_count": 57,
   "metadata": {},
   "outputs": [
    {
     "data": {
      "text/plain": [
       "['weights\\\\ML\\\\death_predictor_svm.joblib']"
      ]
     },
     "execution_count": 57,
     "metadata": {},
     "output_type": "execute_result"
    }
   ],
   "source": [
    "dump(d_svm, ML_dir / 'death_predictor_svm.joblib')"
   ]
  },
  {
   "cell_type": "markdown",
   "metadata": {},
   "source": [
    "## 3.2 NoInjured"
   ]
  },
  {
   "cell_type": "code",
   "execution_count": 58,
   "metadata": {},
   "outputs": [
    {
     "name": "stdout",
     "output_type": "stream",
     "text": [
      "LINEAR_TARGETS :NoInjured\n",
      "ATTRIBUTES :['Year', 'Month', 'MainLandfallLocation', 'OFDAResponse', 'Appeal', 'Declaration', 'LandfallMagnitude(kph)', 'LandfallPressure(mb)', 'Flood', 'Slide']\n",
      "Train size 165\n",
      "Test size: 19\n"
     ]
    }
   ],
   "source": [
    "from src.const import LINEAR_TARGETS\n",
    "\n",
    "evaluate_dict = dict()\n",
    "\n",
    "print(f\"LINEAR_TARGETS :{LINEAR_TARGETS[1]}\")\n",
    "print(f\"ATTRIBUTES :{ATTRIBUTES + CATEGORICAL_TARGETS}\")\n",
    "\n",
    "slide_df = base_df.copy()\n",
    "X = slide_df[ATTRIBUTES + CATEGORICAL_TARGETS]\n",
    "y = slide_df[LINEAR_TARGETS[1]]\n",
    "\n",
    "X_train, X_test, y_train, y_test = train_test_split(X, y, test_size=0.1, random_state=SEED)\n",
    "\n",
    "# standardize\n",
    "scaler = StandardScaler()\n",
    "X_train_scaled = scaler.fit_transform(X_train)\n",
    "X_test_scaled = scaler.transform(X_test)\n",
    "\n",
    "X_train = X_train_scaled\n",
    "X_test = X_test_scaled\n",
    "print(f\"Train size {len(X_train)}\")\n",
    "print(f\"Test size: {len(X_test)}\")\n"
   ]
  },
  {
   "cell_type": "markdown",
   "metadata": {},
   "source": [
    "### 3.2.1 Multi-Linear Regression"
   ]
  },
  {
   "cell_type": "code",
   "execution_count": 59,
   "metadata": {},
   "outputs": [
    {
     "data": {
      "text/plain": [
       "{'mae': 90.13,\n",
       " 'mse': 16567.38,\n",
       " 'rmse': 128.71,\n",
       " 'mae_upperbound_tolerance': -72.95,\n",
       " 'rmse_upperbound_tolerance': -104.4,\n",
       " 'mse_upperbound_tolerance': -14596.61}"
      ]
     },
     "execution_count": 59,
     "metadata": {},
     "output_type": "execute_result"
    }
   ],
   "source": [
    "from sklearn.linear_model import LinearRegression\n",
    "\n",
    "# injured_multilinearregression\n",
    "i_mlr = LinearRegression()\n",
    "i_mlr.fit(X_train, y_train)\n",
    "\n",
    "eval_values = evaluate(i_mlr, X_test, y_test, threshold=thresh, mode=\"regression\")\n",
    "evaluate_dict[\"MultiLinearRegression\"] = eval_values\n",
    "\n",
    "eval_values"
   ]
  },
  {
   "cell_type": "markdown",
   "metadata": {},
   "source": [
    "### 3.2.2 Random Forest"
   ]
  },
  {
   "cell_type": "code",
   "execution_count": 60,
   "metadata": {},
   "outputs": [
    {
     "data": {
      "text/plain": [
       "{'mae': 60.18,\n",
       " 'mse': 10606.89,\n",
       " 'rmse': 102.99,\n",
       " 'mae_upperbound_tolerance': -43.0,\n",
       " 'rmse_upperbound_tolerance': -78.67,\n",
       " 'mse_upperbound_tolerance': -8636.12}"
      ]
     },
     "execution_count": 60,
     "metadata": {},
     "output_type": "execute_result"
    }
   ],
   "source": [
    "from sklearn.ensemble import RandomForestRegressor\n",
    "\n",
    "i_rf = RandomForestRegressor(n_estimators=epochs, random_state=SEED)\n",
    "i_rf.fit(X_train, y_train)\n",
    "\n",
    "eval_values = evaluate(i_rf, X_test, y_test, threshold=thresh, mode=\"regression\")\n",
    "evaluate_dict[i_rf.__class__.__name__] = eval_values\n",
    "\n",
    "eval_values"
   ]
  },
  {
   "cell_type": "markdown",
   "metadata": {},
   "source": [
    "### 3.2.3 SVR"
   ]
  },
  {
   "cell_type": "code",
   "execution_count": 61,
   "metadata": {},
   "outputs": [
    {
     "data": {
      "text/plain": [
       "{'mae': 40.31,\n",
       " 'mse': 7390.26,\n",
       " 'rmse': 85.97,\n",
       " 'mae_upperbound_tolerance': -23.13,\n",
       " 'rmse_upperbound_tolerance': -61.65,\n",
       " 'mse_upperbound_tolerance': -5419.49}"
      ]
     },
     "execution_count": 61,
     "metadata": {},
     "output_type": "execute_result"
    }
   ],
   "source": [
    "from sklearn.svm import SVR\n",
    "\n",
    "i_svm = SVR(kernel=\"poly\", max_iter=epochs)\n",
    "i_svm.fit(X_train, y_train)\n",
    "\n",
    "eval_values = evaluate(i_svm, X_test, y_test, threshold=thresh, mode=\"regression\")\n",
    "evaluate_dict[i_svm.__class__.__name__] = eval_values\n",
    "\n",
    "eval_values"
   ]
  },
  {
   "cell_type": "code",
   "execution_count": 62,
   "metadata": {},
   "outputs": [
    {
     "data": {
      "text/html": [
       "<style type=\"text/css\">\n",
       "#T_191aa_row2_col0 {\n",
       "  background-color: black;\n",
       "}\n",
       "#T_191aa_row2_col1, #T_191aa_row2_col2, #T_191aa_row2_col3, #T_191aa_row2_col4, #T_191aa_row2_col5, #T_191aa_row2_col6 {\n",
       "  color: red;\n",
       "  background-color: black;\n",
       "}\n",
       "</style>\n",
       "<table id=\"T_191aa\">\n",
       "  <thead>\n",
       "    <tr>\n",
       "      <th class=\"blank level0\" >&nbsp;</th>\n",
       "      <th id=\"T_191aa_level0_col0\" class=\"col_heading level0 col0\" >Method</th>\n",
       "      <th id=\"T_191aa_level0_col1\" class=\"col_heading level0 col1\" >mae</th>\n",
       "      <th id=\"T_191aa_level0_col2\" class=\"col_heading level0 col2\" >mse</th>\n",
       "      <th id=\"T_191aa_level0_col3\" class=\"col_heading level0 col3\" >rmse</th>\n",
       "      <th id=\"T_191aa_level0_col4\" class=\"col_heading level0 col4\" >mae_upperbound_tolerance</th>\n",
       "      <th id=\"T_191aa_level0_col5\" class=\"col_heading level0 col5\" >rmse_upperbound_tolerance</th>\n",
       "      <th id=\"T_191aa_level0_col6\" class=\"col_heading level0 col6\" >mse_upperbound_tolerance</th>\n",
       "    </tr>\n",
       "  </thead>\n",
       "  <tbody>\n",
       "    <tr>\n",
       "      <th id=\"T_191aa_level0_row0\" class=\"row_heading level0 row0\" >0</th>\n",
       "      <td id=\"T_191aa_row0_col0\" class=\"data row0 col0\" >MultiLinearRegression</td>\n",
       "      <td id=\"T_191aa_row0_col1\" class=\"data row0 col1\" >90.13</td>\n",
       "      <td id=\"T_191aa_row0_col2\" class=\"data row0 col2\" >16567.38</td>\n",
       "      <td id=\"T_191aa_row0_col3\" class=\"data row0 col3\" >128.71</td>\n",
       "      <td id=\"T_191aa_row0_col4\" class=\"data row0 col4\" >-72.95</td>\n",
       "      <td id=\"T_191aa_row0_col5\" class=\"data row0 col5\" >-104.40</td>\n",
       "      <td id=\"T_191aa_row0_col6\" class=\"data row0 col6\" >-14596.61</td>\n",
       "    </tr>\n",
       "    <tr>\n",
       "      <th id=\"T_191aa_level0_row1\" class=\"row_heading level0 row1\" >1</th>\n",
       "      <td id=\"T_191aa_row1_col0\" class=\"data row1 col0\" >RandomForestRegressor</td>\n",
       "      <td id=\"T_191aa_row1_col1\" class=\"data row1 col1\" >60.18</td>\n",
       "      <td id=\"T_191aa_row1_col2\" class=\"data row1 col2\" >10606.89</td>\n",
       "      <td id=\"T_191aa_row1_col3\" class=\"data row1 col3\" >102.99</td>\n",
       "      <td id=\"T_191aa_row1_col4\" class=\"data row1 col4\" >-43.00</td>\n",
       "      <td id=\"T_191aa_row1_col5\" class=\"data row1 col5\" >-78.67</td>\n",
       "      <td id=\"T_191aa_row1_col6\" class=\"data row1 col6\" >-8636.12</td>\n",
       "    </tr>\n",
       "    <tr>\n",
       "      <th id=\"T_191aa_level0_row2\" class=\"row_heading level0 row2\" >2</th>\n",
       "      <td id=\"T_191aa_row2_col0\" class=\"data row2 col0\" >SVR</td>\n",
       "      <td id=\"T_191aa_row2_col1\" class=\"data row2 col1\" >40.31</td>\n",
       "      <td id=\"T_191aa_row2_col2\" class=\"data row2 col2\" >7390.26</td>\n",
       "      <td id=\"T_191aa_row2_col3\" class=\"data row2 col3\" >85.97</td>\n",
       "      <td id=\"T_191aa_row2_col4\" class=\"data row2 col4\" >-23.13</td>\n",
       "      <td id=\"T_191aa_row2_col5\" class=\"data row2 col5\" >-61.65</td>\n",
       "      <td id=\"T_191aa_row2_col6\" class=\"data row2 col6\" >-5419.49</td>\n",
       "    </tr>\n",
       "  </tbody>\n",
       "</table>\n"
      ],
      "text/plain": [
       "<pandas.io.formats.style.Styler at 0x21e28cd5c90>"
      ]
     },
     "execution_count": 62,
     "metadata": {},
     "output_type": "execute_result"
    }
   ],
   "source": [
    "# compare metrics value\n",
    "def highlight_max(s):\n",
    "    is_max = s == s.max()\n",
    "    return ['color: red' if v else '' for v in is_max]\n",
    "\n",
    "def highlight_min(s):\n",
    "    is_min = s == s.min()\n",
    "    return ['color: red' if v else '' for v in is_min]\n",
    "\n",
    "def highlight_row(row, selected_method):\n",
    "    return ['background-color: black;' if row['Method'] in selected_method else '' \n",
    "            for _ in row]\n",
    "\n",
    "selected_method = [i_svm.__class__.__name__]\n",
    "eval_value_df = pd.DataFrame(evaluate_dict).T.reset_index().rename(columns={\"index\":\"Method\"})\n",
    "\n",
    "eval_value_df = (\n",
    "    eval_value_df.style\n",
    "    .apply(highlight_max, subset=[\"mae_upperbound_tolerance\", \"rmse_upperbound_tolerance\", \"mse_upperbound_tolerance\"])\n",
    "    .apply(highlight_min, subset=[\"mae\", \"mse\", \"rmse\"])\n",
    "    .apply(lambda row: highlight_row(row, selected_method), axis=1 )\n",
    "    .format(precision=2)\n",
    ")\n",
    "\n",
    "eval_value_df"
   ]
  },
  {
   "cell_type": "markdown",
   "metadata": {},
   "source": [
    "`SVR with poly kernel` still be the best in all metric"
   ]
  },
  {
   "cell_type": "code",
   "execution_count": 63,
   "metadata": {},
   "outputs": [
    {
     "data": {
      "text/plain": [
       "['weights\\\\ML\\\\injured_predictor_svm.joblib']"
      ]
     },
     "execution_count": 63,
     "metadata": {},
     "output_type": "execute_result"
    }
   ],
   "source": [
    "dump(i_svm, ML_dir / 'injured_predictor_svm.joblib')"
   ]
  },
  {
   "cell_type": "markdown",
   "metadata": {},
   "source": [
    "## 3.3 TotalDamageAdjusted"
   ]
  },
  {
   "cell_type": "code",
   "execution_count": 64,
   "metadata": {},
   "outputs": [
    {
     "name": "stdout",
     "output_type": "stream",
     "text": [
      "LINEAR_TARGETS :TotalDamageAdjusted(000US$)\n",
      "ATTRIBUTES :['Year', 'Month', 'MainLandfallLocation', 'OFDAResponse', 'Appeal', 'Declaration', 'LandfallMagnitude(kph)', 'LandfallPressure(mb)', 'Flood', 'Slide']\n",
      "Train size 165\n",
      "Test size: 19\n"
     ]
    }
   ],
   "source": [
    "from src.const import LINEAR_TARGETS\n",
    "\n",
    "evaluate_dict = dict()\n",
    "\n",
    "print(f\"LINEAR_TARGETS :{LINEAR_TARGETS[2]}\")\n",
    "print(f\"ATTRIBUTES :{ATTRIBUTES + CATEGORICAL_TARGETS}\")\n",
    "\n",
    "slide_df = base_df.copy()\n",
    "X = slide_df[ATTRIBUTES + CATEGORICAL_TARGETS]\n",
    "y = slide_df[LINEAR_TARGETS[2]]\n",
    "\n",
    "X_train, X_test, y_train, y_test = train_test_split(X, y, test_size=0.1, random_state=SEED)\n",
    "\n",
    "# standardize\n",
    "scaler = StandardScaler()\n",
    "X_train_scaled = scaler.fit_transform(X_train)\n",
    "X_test_scaled = scaler.transform(X_test)\n",
    "\n",
    "X_train = X_train_scaled\n",
    "X_test = X_test_scaled\n",
    "print(f\"Train size {len(X_train)}\")\n",
    "print(f\"Test size: {len(X_test)}\")\n"
   ]
  },
  {
   "cell_type": "markdown",
   "metadata": {},
   "source": [
    "### 3.3.1 Multi-Linear regression"
   ]
  },
  {
   "cell_type": "code",
   "execution_count": 65,
   "metadata": {},
   "outputs": [
    {
     "data": {
      "text/plain": [
       "{'mae': 100839.46,\n",
       " 'mse': 21208388448.98,\n",
       " 'rmse': 145631.0,\n",
       " 'mae_upperbound_tolerance': -84409.01,\n",
       " 'rmse_upperbound_tolerance': -118776.81,\n",
       " 'mse_upperbound_tolerance': -18804563792.14}"
      ]
     },
     "execution_count": 65,
     "metadata": {},
     "output_type": "execute_result"
    }
   ],
   "source": [
    "from sklearn.linear_model import LinearRegression\n",
    "\n",
    "# injured_multilinearregression\n",
    "dmg_mlr = LinearRegression()\n",
    "dmg_mlr.fit(X_train, y_train)\n",
    "\n",
    "eval_values = evaluate(dmg_mlr, X_test, y_test, threshold=thresh, mode=\"regression\")\n",
    "evaluate_dict[\"MultiLinearRegression\"] = eval_values\n",
    "\n",
    "eval_values"
   ]
  },
  {
   "cell_type": "markdown",
   "metadata": {},
   "source": [
    "### 3.3.2 Random Forest"
   ]
  },
  {
   "cell_type": "code",
   "execution_count": 66,
   "metadata": {},
   "outputs": [
    {
     "data": {
      "text/plain": [
       "{'mae': 88690.35,\n",
       " 'mse': 16469344524.87,\n",
       " 'rmse': 128332.94,\n",
       " 'mae_upperbound_tolerance': -72259.9,\n",
       " 'rmse_upperbound_tolerance': -101478.76,\n",
       " 'mse_upperbound_tolerance': -14065519868.03}"
      ]
     },
     "execution_count": 66,
     "metadata": {},
     "output_type": "execute_result"
    }
   ],
   "source": [
    "from sklearn.ensemble import RandomForestRegressor\n",
    "\n",
    "dmg_rf = RandomForestRegressor(n_estimators=epochs, random_state=SEED)\n",
    "dmg_rf.fit(X_train, y_train)\n",
    "\n",
    "eval_values = evaluate(dmg_rf, X_test, y_test, threshold=thresh, mode=\"regression\")\n",
    "evaluate_dict[dmg_rf.__class__.__name__] = eval_values\n",
    "\n",
    "eval_values"
   ]
  },
  {
   "cell_type": "markdown",
   "metadata": {},
   "source": [
    "### 3.3.3 SVR"
   ]
  },
  {
   "cell_type": "code",
   "execution_count": 67,
   "metadata": {},
   "outputs": [
    {
     "data": {
      "text/plain": [
       "{'mae': 52497.61,\n",
       " 'mse': 8356010871.2,\n",
       " 'rmse': 91411.22,\n",
       " 'mae_upperbound_tolerance': -36067.17,\n",
       " 'rmse_upperbound_tolerance': -64557.03,\n",
       " 'mse_upperbound_tolerance': -5952186214.36}"
      ]
     },
     "execution_count": 67,
     "metadata": {},
     "output_type": "execute_result"
    }
   ],
   "source": [
    "from sklearn.svm import SVR\n",
    "\n",
    "dmg_svm = SVR(kernel=\"poly\", max_iter=epochs)\n",
    "dmg_svm.fit(X_train, y_train)\n",
    "\n",
    "eval_values = evaluate(dmg_svm, X_test, y_test, threshold=thresh, mode=\"regression\")\n",
    "evaluate_dict[dmg_svm.__class__.__name__] = eval_values\n",
    "\n",
    "eval_values"
   ]
  },
  {
   "cell_type": "code",
   "execution_count": 68,
   "metadata": {},
   "outputs": [
    {
     "data": {
      "text/html": [
       "<style type=\"text/css\">\n",
       "#T_fc753_row2_col0 {\n",
       "  background-color: black;\n",
       "}\n",
       "#T_fc753_row2_col1, #T_fc753_row2_col2, #T_fc753_row2_col3, #T_fc753_row2_col4, #T_fc753_row2_col5, #T_fc753_row2_col6 {\n",
       "  color: red;\n",
       "  background-color: black;\n",
       "}\n",
       "</style>\n",
       "<table id=\"T_fc753\">\n",
       "  <thead>\n",
       "    <tr>\n",
       "      <th class=\"blank level0\" >&nbsp;</th>\n",
       "      <th id=\"T_fc753_level0_col0\" class=\"col_heading level0 col0\" >Method</th>\n",
       "      <th id=\"T_fc753_level0_col1\" class=\"col_heading level0 col1\" >mae</th>\n",
       "      <th id=\"T_fc753_level0_col2\" class=\"col_heading level0 col2\" >mse</th>\n",
       "      <th id=\"T_fc753_level0_col3\" class=\"col_heading level0 col3\" >rmse</th>\n",
       "      <th id=\"T_fc753_level0_col4\" class=\"col_heading level0 col4\" >mae_upperbound_tolerance</th>\n",
       "      <th id=\"T_fc753_level0_col5\" class=\"col_heading level0 col5\" >rmse_upperbound_tolerance</th>\n",
       "      <th id=\"T_fc753_level0_col6\" class=\"col_heading level0 col6\" >mse_upperbound_tolerance</th>\n",
       "    </tr>\n",
       "  </thead>\n",
       "  <tbody>\n",
       "    <tr>\n",
       "      <th id=\"T_fc753_level0_row0\" class=\"row_heading level0 row0\" >0</th>\n",
       "      <td id=\"T_fc753_row0_col0\" class=\"data row0 col0\" >MultiLinearRegression</td>\n",
       "      <td id=\"T_fc753_row0_col1\" class=\"data row0 col1\" >100839.46</td>\n",
       "      <td id=\"T_fc753_row0_col2\" class=\"data row0 col2\" >21208388448.98</td>\n",
       "      <td id=\"T_fc753_row0_col3\" class=\"data row0 col3\" >145631.00</td>\n",
       "      <td id=\"T_fc753_row0_col4\" class=\"data row0 col4\" >-84409.01</td>\n",
       "      <td id=\"T_fc753_row0_col5\" class=\"data row0 col5\" >-118776.81</td>\n",
       "      <td id=\"T_fc753_row0_col6\" class=\"data row0 col6\" >-18804563792.14</td>\n",
       "    </tr>\n",
       "    <tr>\n",
       "      <th id=\"T_fc753_level0_row1\" class=\"row_heading level0 row1\" >1</th>\n",
       "      <td id=\"T_fc753_row1_col0\" class=\"data row1 col0\" >RandomForestRegressor</td>\n",
       "      <td id=\"T_fc753_row1_col1\" class=\"data row1 col1\" >88690.35</td>\n",
       "      <td id=\"T_fc753_row1_col2\" class=\"data row1 col2\" >16469344524.87</td>\n",
       "      <td id=\"T_fc753_row1_col3\" class=\"data row1 col3\" >128332.94</td>\n",
       "      <td id=\"T_fc753_row1_col4\" class=\"data row1 col4\" >-72259.90</td>\n",
       "      <td id=\"T_fc753_row1_col5\" class=\"data row1 col5\" >-101478.76</td>\n",
       "      <td id=\"T_fc753_row1_col6\" class=\"data row1 col6\" >-14065519868.03</td>\n",
       "    </tr>\n",
       "    <tr>\n",
       "      <th id=\"T_fc753_level0_row2\" class=\"row_heading level0 row2\" >2</th>\n",
       "      <td id=\"T_fc753_row2_col0\" class=\"data row2 col0\" >SVR</td>\n",
       "      <td id=\"T_fc753_row2_col1\" class=\"data row2 col1\" >52497.61</td>\n",
       "      <td id=\"T_fc753_row2_col2\" class=\"data row2 col2\" >8356010871.20</td>\n",
       "      <td id=\"T_fc753_row2_col3\" class=\"data row2 col3\" >91411.22</td>\n",
       "      <td id=\"T_fc753_row2_col4\" class=\"data row2 col4\" >-36067.17</td>\n",
       "      <td id=\"T_fc753_row2_col5\" class=\"data row2 col5\" >-64557.03</td>\n",
       "      <td id=\"T_fc753_row2_col6\" class=\"data row2 col6\" >-5952186214.36</td>\n",
       "    </tr>\n",
       "  </tbody>\n",
       "</table>\n"
      ],
      "text/plain": [
       "<pandas.io.formats.style.Styler at 0x21e2e4c5c60>"
      ]
     },
     "execution_count": 68,
     "metadata": {},
     "output_type": "execute_result"
    }
   ],
   "source": [
    "# compare metrics value\n",
    "def highlight_max(s):\n",
    "    is_max = s == s.max()\n",
    "    return ['color: red' if v else '' for v in is_max]\n",
    "\n",
    "def highlight_min(s):\n",
    "    is_min = s == s.min()\n",
    "    return ['color: red' if v else '' for v in is_min]\n",
    "\n",
    "def highlight_row(row, selected_method):\n",
    "    return ['background-color: black;' if row['Method'] in selected_method else '' \n",
    "            for _ in row]\n",
    "\n",
    "selected_method = [dmg_svm.__class__.__name__]\n",
    "eval_value_df = pd.DataFrame(evaluate_dict).T.reset_index().rename(columns={\"index\":\"Method\"})\n",
    "\n",
    "eval_value_df = (\n",
    "    eval_value_df.style\n",
    "    .apply(highlight_max, subset=[\"mae_upperbound_tolerance\", \"rmse_upperbound_tolerance\", \"mse_upperbound_tolerance\"])\n",
    "    .apply(highlight_min, subset=[\"mae\", \"mse\", \"rmse\"])\n",
    "    .apply(lambda row: highlight_row(row, selected_method), axis=1 )\n",
    "    .format(precision=2)\n",
    ")\n",
    "\n",
    "eval_value_df"
   ]
  },
  {
   "cell_type": "code",
   "execution_count": 69,
   "metadata": {},
   "outputs": [
    {
     "data": {
      "text/plain": [
       "['weights\\\\ML\\\\damage_predictor_svm.joblib']"
      ]
     },
     "execution_count": 69,
     "metadata": {},
     "output_type": "execute_result"
    }
   ],
   "source": [
    "dump(dmg_svm, ML_dir / 'damage_predictor_svm.joblib')"
   ]
  }
 ],
 "metadata": {
  "kernelspec": {
   "display_name": "env",
   "language": "python",
   "name": "python3"
  },
  "language_info": {
   "codemirror_mode": {
    "name": "ipython",
    "version": 3
   },
   "file_extension": ".py",
   "mimetype": "text/x-python",
   "name": "python",
   "nbconvert_exporter": "python",
   "pygments_lexer": "ipython3",
   "version": "3.10.14"
  }
 },
 "nbformat": 4,
 "nbformat_minor": 2
}
